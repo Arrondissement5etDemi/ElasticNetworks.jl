{
 "cells": [
  {
   "cell_type": "code",
   "execution_count": 1,
   "id": "c1f65703",
   "metadata": {},
   "outputs": [],
   "source": [
    "using ElasticNetworks, Graphs, GLMakie"
   ]
  },
  {
   "cell_type": "code",
   "execution_count": 2,
   "id": "e2375ef1",
   "metadata": {},
   "outputs": [],
   "source": [
    "l = 10 #box side length\n",
    "ϵ = 0.05 #edge prestrain\n",
    "diamond_net = diamond1000(l, ϵ)\n",
    "visualize_net(diamond_net)"
   ]
  },
  {
   "cell_type": "code",
   "execution_count": 3,
   "id": "0c364357",
   "metadata": {},
   "outputs": [
    {
     "data": {
      "text/plain": [
       "2000-element Vector{Graphs.SimpleGraphs.SimpleEdge{Int64}}:\n",
       " Edge 1 => 501\n",
       " Edge 1 => 746\n",
       " Edge 1 => 775\n",
       " Edge 1 => 980\n",
       " Edge 2 => 502\n",
       " Edge 2 => 747\n",
       " Edge 2 => 771\n",
       " Edge 2 => 976\n",
       " Edge 3 => 503\n",
       " Edge 3 => 748\n",
       " ⋮\n",
       " Edge 498 => 973\n",
       " Edge 499 => 624\n",
       " Edge 499 => 724\n",
       " Edge 499 => 874\n",
       " Edge 499 => 974\n",
       " Edge 500 => 625\n",
       " Edge 500 => 725\n",
       " Edge 500 => 875\n",
       " Edge 500 => 975"
      ]
     },
     "metadata": {},
     "output_type": "display_data"
    }
   ],
   "source": [
    "collect(edges(diamond_net.g))"
   ]
  },
  {
   "cell_type": "code",
   "execution_count": 4,
   "id": "b722ae6b",
   "metadata": {},
   "outputs": [
    {
     "data": {
      "text/plain": [
       "1.0"
      ]
     },
     "metadata": {},
     "output_type": "display_data"
    }
   ],
   "source": [
    "ElasticNetworks.rem_edge!(diamond_net, 1, 501)"
   ]
  },
  {
   "cell_type": "code",
   "execution_count": 5,
   "id": "7d1ffdc5",
   "metadata": {},
   "outputs": [],
   "source": [
    "relax!(diamond_net)\n",
    "visualize_net(diamond_net)"
   ]
  },
  {
   "cell_type": "code",
   "execution_count": 8,
   "id": "ec121f2b",
   "metadata": {},
   "outputs": [],
   "source": [
    "ElasticNetworks.add_edge!(diamond_net, 1, 501, diamond_net.rest_lengths[Edge(1, 746)])\n",
    "relax!(diamond_net)\n",
    "visualize_net(diamond_net)"
   ]
  },
  {
   "cell_type": "code",
   "execution_count": 13,
   "id": "5814c5c4",
   "metadata": {},
   "outputs": [
    {
     "data": {
      "text/plain": [
       "3000×3000 Matrix{Float64}:\n",
       " 177.054        -1.55599e-9   -1.5558e-9  …    0.0            0.0\n",
       "  -1.55599e-9  177.054        -1.5558e-9       0.0            0.0\n",
       "  -1.5558e-9    -1.5558e-9   177.054           0.0            0.0\n",
       "   0.0           0.0           0.0             0.0            0.0\n",
       "   0.0           0.0           0.0             0.0            0.0\n",
       "   0.0           0.0           0.0        …    0.0            0.0\n",
       "   0.0           0.0           0.0             0.0            0.0\n",
       "   0.0           0.0           0.0             0.0            0.0\n",
       "   0.0           0.0           0.0             0.0            0.0\n",
       "   0.0           0.0           0.0             0.0            0.0\n",
       "   ⋮                                      ⋱                 \n",
       "   0.0           0.0           0.0             0.0            0.0\n",
       "   0.0           0.0           0.0             0.0            0.0\n",
       "   0.0           0.0           0.0             0.0            0.0\n",
       "   0.0           0.0           0.0             0.0            0.0\n",
       "   0.0           0.0           0.0        …    0.0            0.0\n",
       "   0.0           0.0           0.0             0.0            0.0\n",
       "   0.0           0.0           0.0             2.30735e-10   -1.24403e-9\n",
       "   0.0           0.0           0.0           177.054          2.30585e-10\n",
       "   0.0           0.0           0.0             2.30585e-10  177.054"
      ]
     },
     "metadata": {},
     "output_type": "display_data"
    }
   ],
   "source": [
    "energy_hessian(diamond_net)"
   ]
  },
  {
   "cell_type": "code",
   "execution_count": 14,
   "id": "8ae9e5cf",
   "metadata": {},
   "outputs": [],
   "source": [
    "visualize_eigenmode(diamond_net, 7)"
   ]
  },
  {
   "cell_type": "code",
   "execution_count": null,
   "id": "3e8425e3",
   "metadata": {},
   "outputs": [],
   "source": []
  }
 ],
 "metadata": {
  "kernelspec": {
   "display_name": "Julia 1.11.5",
   "language": "julia",
   "name": "julia-1.11"
  },
  "language_info": {
   "file_extension": ".jl",
   "mimetype": "application/julia",
   "name": "julia",
   "version": "1.11.5"
  }
 },
 "nbformat": 4,
 "nbformat_minor": 5
}
